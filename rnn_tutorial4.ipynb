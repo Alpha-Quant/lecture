{
 "cells": [
  {
   "cell_type": "code",
   "execution_count": 212,
   "metadata": {},
   "outputs": [],
   "source": [
    "import tensorflow as tf\n",
    "import numpy as np\n",
    "import pandas as pd\n",
    "import gensim"
   ]
  },
  {
   "cell_type": "code",
   "execution_count": 265,
   "metadata": {},
   "outputs": [],
   "source": [
    "train = pd.read_csv('ratings_train.txt', delimiter='\\t')\n",
    "test = pd.read_csv('ratings_test.txt', delimiter='\\t')\n",
    "y_train = train.label.values\n",
    "y_test = test.label.values"
   ]
  },
  {
   "cell_type": "code",
   "execution_count": 266,
   "metadata": {},
   "outputs": [],
   "source": [
    "model = gensim.models.Word2Vec.load('./vectors.bin')"
   ]
  },
  {
   "cell_type": "code",
   "execution_count": 469,
   "metadata": {},
   "outputs": [
    {
     "data": {
      "text/plain": [
       "61589"
      ]
     },
     "execution_count": 469,
     "metadata": {},
     "output_type": "execute_result"
    }
   ],
   "source": [
    "len(model.wv.vocab)"
   ]
  },
  {
   "cell_type": "code",
   "execution_count": 306,
   "metadata": {},
   "outputs": [],
   "source": [
    "train_sents = np.load('train_sents.npy')\n",
    "train_segs = np.load('train_segs.npy')\n",
    "test_sents = np.load('test_sents.npy')\n",
    "test_segs = np.load('test_segs.npy')"
   ]
  },
  {
   "cell_type": "code",
   "execution_count": 269,
   "metadata": {},
   "outputs": [],
   "source": [
    "def get_max_length(seq_data):\n",
    "    max_len = 0\n",
    "    for sent in seq_data:\n",
    "        if max_len < len(sent):\n",
    "            max_len = len(sent)\n",
    "    return(max_len)"
   ]
  },
  {
   "cell_type": "code",
   "execution_count": 391,
   "metadata": {},
   "outputs": [],
   "source": [
    "#max_len = get_max_length(train_segs)\n",
    "max_len = 10"
   ]
  },
  {
   "cell_type": "code",
   "execution_count": 392,
   "metadata": {},
   "outputs": [],
   "source": [
    "word = []\n",
    "for sent in train_segs:\n",
    "    for seg in sent:\n",
    "        word.append(seg)"
   ]
  },
  {
   "cell_type": "code",
   "execution_count": 471,
   "metadata": {},
   "outputs": [],
   "source": [
    "word2num = {w:(i+1) for i,w in enumerate(set(word))}\n",
    "num2word = {(i+1):w for i,w in enumerate(set(word))}"
   ]
  },
  {
   "cell_type": "code",
   "execution_count": 472,
   "metadata": {},
   "outputs": [],
   "source": [
    "embedding_vector = [np.zeros(shape=300)]\n",
    "for i, w in enumerate(word2num.keys()):\n",
    "    if w not in model.wv.vocab:\n",
    "        embedding_vector += [np.random.normal(scale=1e-2, size=300)]\n",
    "    else:\n",
    "        embedding_vector += [model.wv[w]]"
   ]
  },
  {
   "cell_type": "code",
   "execution_count": 473,
   "metadata": {},
   "outputs": [],
   "source": [
    "word2num['<UNK>'] = 0\n",
    "num2word[0] = '<UNK>'"
   ]
  },
  {
   "cell_type": "code",
   "execution_count": 474,
   "metadata": {},
   "outputs": [],
   "source": [
    "def sent2index(segs):\n",
    "    idx = []\n",
    "    for sent in segs:\n",
    "        temp = []\n",
    "        for seg in sent:\n",
    "            if seg not in word2num.keys():\n",
    "                seg = '<UNK>'\n",
    "            temp.append(word2num[seg])\n",
    "        idx.append(temp)\n",
    "    return idx"
   ]
  },
  {
   "cell_type": "code",
   "execution_count": 475,
   "metadata": {},
   "outputs": [],
   "source": [
    "train_idx = sent2index(train_segs)\n",
    "test_idx = sent2index(test_segs)"
   ]
  },
  {
   "cell_type": "code",
   "execution_count": 457,
   "metadata": {},
   "outputs": [],
   "source": [
    "def get_seq_length(seq_data, max_len):\n",
    "    seq_len = []\n",
    "    for seq in seq_data:\n",
    "        if max_len <= len(seq):\n",
    "            seq_len.append(max_len)\n",
    "        else:\n",
    "            seq_len.append(len(seq))\n",
    "    return seq_len"
   ]
  },
  {
   "cell_type": "code",
   "execution_count": 458,
   "metadata": {},
   "outputs": [],
   "source": [
    "seq_length_ = get_seq_length(train_segs, max_len)"
   ]
  },
  {
   "cell_type": "code",
   "execution_count": 459,
   "metadata": {},
   "outputs": [],
   "source": [
    "def give_zero_padding(seq_data, max_len):\n",
    "    seq_ = []\n",
    "    for seq in seq_data:\n",
    "        temp = seq\n",
    "        if len(temp) > max_len:\n",
    "            temp = seq[:max_len]\n",
    "        for _ in range(len(temp), max_len):\n",
    "            temp.append(0)\n",
    "        seq_.append(temp)\n",
    "    return seq_"
   ]
  },
  {
   "cell_type": "code",
   "execution_count": 460,
   "metadata": {},
   "outputs": [],
   "source": [
    "train_idx = give_zero_padding(train_idx, max_len)\n",
    "test_idx = give_zero_padding(test_idx, max_len)"
   ]
  },
  {
   "cell_type": "code",
   "execution_count": 462,
   "metadata": {},
   "outputs": [
    {
     "data": {
      "text/plain": [
       "[4511, 37354, 27605, 21819, 32409, 60795, 7313, 31746, 0, 0]"
      ]
     },
     "execution_count": 462,
     "metadata": {},
     "output_type": "execute_result"
    }
   ],
   "source": [
    "train_idx[0]"
   ]
  },
  {
   "cell_type": "code",
   "execution_count": 436,
   "metadata": {},
   "outputs": [],
   "source": [
    "learning_rate = 0.001\n",
    "n_hidden = 128\n",
    "n_epoch = 5\n",
    "n_embedding = 300\n",
    "n_step = max_len\n",
    "n_input = 300\n",
    "n_vocab = len(word2num)\n",
    "batch_size = 64\n",
    "n_output = 2"
   ]
  },
  {
   "cell_type": "code",
   "execution_count": 437,
   "metadata": {},
   "outputs": [],
   "source": [
    "tf.reset_default_graph()\n",
    "X = tf.placeholder(dtype=tf.int32, shape=[None, n_step])\n",
    "Y = tf.placeholder(dtype=tf.int32, shape=[None])\n",
    "embedding = tf.placeholder(dtype=tf.float32, shape=[n_vocab, n_embedding])\n",
    "seq_len = tf.placeholder(dtype=tf.int32, shape=[None])\n",
    "inputs = tf.nn.embedding_lookup(embedding, X)"
   ]
  },
  {
   "cell_type": "code",
   "execution_count": 438,
   "metadata": {},
   "outputs": [],
   "source": [
    "W = tf.Variable(tf.random_normal([n_hidden, n_output]))\n",
    "b = tf.Variable(tf.random_normal([n_output]))"
   ]
  },
  {
   "cell_type": "code",
   "execution_count": 439,
   "metadata": {},
   "outputs": [],
   "source": [
    "cell = tf.nn.rnn_cell.GRUCell(n_hidden)\n",
    "cell = tf.nn.rnn_cell.DropoutWrapper(cell, output_keep_prob=0.5)"
   ]
  },
  {
   "cell_type": "code",
   "execution_count": 440,
   "metadata": {},
   "outputs": [],
   "source": [
    "outputs, states = tf.nn.dynamic_rnn(cell, inputs, sequence_length=seq_len, dtype=tf.float32)\n",
    "#outputs: TensorShape([batch_size, time_steps, hidden_size])"
   ]
  },
  {
   "cell_type": "code",
   "execution_count": 441,
   "metadata": {},
   "outputs": [],
   "source": [
    "idx = tf.range(tf.shape(outputs)[0])*tf.shape(outputs)[1] + (seq_len - 1)"
   ]
  },
  {
   "cell_type": "code",
   "execution_count": 442,
   "metadata": {},
   "outputs": [],
   "source": [
    "last_outputs = tf.gather(tf.reshape(outputs, [-1, n_hidden]), idx)\n",
    "#tf.reshape(outputs, [-1, n_hidden]): TensorShape([batch_size*time_steps, hidden_size])"
   ]
  },
  {
   "cell_type": "code",
   "execution_count": 443,
   "metadata": {},
   "outputs": [],
   "source": [
    "logits = tf.matmul(last_outputs, W) + b\n",
    "preds = tf.cast(tf.argmax(logits, 1), tf.int32)\n",
    "correct = tf.equal(preds, Y)\n",
    "accuracy = tf.reduce_mean(tf.cast(correct, tf.float32))"
   ]
  },
  {
   "cell_type": "code",
   "execution_count": 444,
   "metadata": {},
   "outputs": [],
   "source": [
    "cost = tf.reduce_mean(tf.nn.sparse_softmax_cross_entropy_with_logits(logits=logits, labels=Y))"
   ]
  },
  {
   "cell_type": "code",
   "execution_count": 445,
   "metadata": {},
   "outputs": [
    {
     "name": "stderr",
     "output_type": "stream",
     "text": [
      "C:\\Users\\RYU\\Anaconda3\\envs\\tensor\\lib\\site-packages\\tensorflow\\python\\ops\\gradients_impl.py:98: UserWarning: Converting sparse IndexedSlices to a dense Tensor of unknown shape. This may consume a large amount of memory.\n",
      "  \"Converting sparse IndexedSlices to a dense Tensor of unknown shape. \"\n"
     ]
    }
   ],
   "source": [
    "optimizer = tf.train.AdamOptimizer(learning_rate).minimize(cost)"
   ]
  },
  {
   "cell_type": "code",
   "execution_count": 448,
   "metadata": {},
   "outputs": [
    {
     "name": "stdout",
     "output_type": "stream",
     "text": [
      "< epoch : 1 >\n",
      "0500 Cost:  0.758\n",
      "1000 Cost:  0.714\n",
      "1500 Cost:  0.701\n",
      "2000 Cost:  0.691\n",
      "< epoch : 2 >\n",
      "0500 Cost:  0.674\n",
      "1000 Cost:  0.673\n",
      "1500 Cost:  0.666\n",
      "2000 Cost:  0.662\n",
      "< epoch : 3 >\n",
      "0500 Cost:  0.654\n",
      "1000 Cost:  0.653\n",
      "1500 Cost:  0.652\n",
      "2000 Cost:  0.648\n",
      "< epoch : 4 >\n",
      "0500 Cost:  0.639\n",
      "1000 Cost:  0.638\n",
      "1500 Cost:  0.637\n",
      "2000 Cost:  0.635\n",
      "< epoch : 5 >\n",
      "0500 Cost:  0.626\n",
      "1000 Cost:  0.627\n",
      "1500 Cost:  0.625\n",
      "2000 Cost:  0.621\n"
     ]
    }
   ],
   "source": [
    "sess = tf.Session()\n",
    "sess.run(tf.global_variables_initializer())\n",
    "total_batch = int(len(train_idx) / batch_size)\n",
    "\n",
    "for epoch in range(n_epoch):\n",
    "    cost_avg = 0\n",
    "    print('< epoch :', (epoch+1), '>')\n",
    "    for i in range(total_batch):\n",
    "        if i == (total_batch-1):\n",
    "            batch_xs = train_idx[(i*batch_size):len(train_idx)]\n",
    "            batch_ys = y_train[(i*batch_size):len(train_idx)]\n",
    "            seq_length_data = get_seq_length(train_segs[(i*batch_size):len(train_idx)], max_len)\n",
    "        else:\n",
    "            batch_xs = train_idx[i*batch_size:(i+1)*batch_size]\n",
    "            batch_ys = y_train[i*batch_size:(i+1)*batch_size]\n",
    "            seq_length_data = get_seq_length(train_segs[(i*batch_size):(i+1)*batch_size], max_len)\n",
    "        cost_val, _ = sess.run([cost, optimizer], feed_dict={X: batch_xs, Y: batch_ys, embedding:embedding_vector, seq_len: seq_length_data})\n",
    "        cost_avg += cost_val\n",
    "        if i % 500 == 499:\n",
    "            print('%04d' % (i+1), 'Cost: ', '{:.3f}'.format(cost_avg/500))\n",
    "            cost_avg = 0"
   ]
  },
  {
   "cell_type": "code",
   "execution_count": 449,
   "metadata": {},
   "outputs": [
    {
     "name": "stdout",
     "output_type": "stream",
     "text": [
      "Accuracy:  0.643\n"
     ]
    }
   ],
   "source": [
    "test_batch = int(len(test_idx) / batch_size)\n",
    "test_acc = 0\n",
    "\n",
    "for i in range(test_batch):\n",
    "    if i == (test_batch-1):\n",
    "        batch_xs = test_idx[(i*batch_size):len(test_idx)]\n",
    "        batch_ys = y_test[(i*batch_size):len(test_idx)]\n",
    "        seq_length_data = get_seq_length(test_segs[(i*batch_size):len(test_idx)], max_len)\n",
    "    else:\n",
    "        batch_xs = test_idx[i*batch_size:(i+1)*batch_size]\n",
    "        batch_ys = y_test[i*batch_size:(i+1)*batch_size]\n",
    "        seq_length_data = get_seq_length(test_segs[(i*batch_size):(i+1)*batch_size], max_len)\n",
    "    acc = sess.run(accuracy, feed_dict={X: batch_xs, Y: batch_ys, embedding:embedding_vector, seq_len: seq_length_data})\n",
    "    test_acc += acc\n",
    "print('Accuracy: ', '{:.3f}'.format(test_acc/test_batch))"
   ]
  }
 ],
 "metadata": {
  "kernelspec": {
   "display_name": "Python tensor",
   "language": "python",
   "name": "myenv"
  },
  "language_info": {
   "codemirror_mode": {
    "name": "ipython",
    "version": 3
   },
   "file_extension": ".py",
   "mimetype": "text/x-python",
   "name": "python",
   "nbconvert_exporter": "python",
   "pygments_lexer": "ipython3",
   "version": "3.5.5"
  }
 },
 "nbformat": 4,
 "nbformat_minor": 2
}

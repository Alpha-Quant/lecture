{
 "cells": [
  {
   "cell_type": "code",
   "execution_count": 1,
   "metadata": {},
   "outputs": [],
   "source": [
    "import tensorflow as tf\n",
    "import numpy as np"
   ]
  },
  {
   "cell_type": "code",
   "execution_count": 2,
   "metadata": {},
   "outputs": [],
   "source": [
    "seq_data = [['I','am','a','boy'], ['나','는','소년','이다'], ['I','am', 'a', 'girl'], ['나','는','소녀','다'],['You', 'are', 'so', 'beautiful'], ['당신','은','너무','아름답다']]"
   ]
  },
  {
   "cell_type": "code",
   "execution_count": 3,
   "metadata": {},
   "outputs": [],
   "source": [
    "char_arr = []\n",
    "for seq in seq_data:\n",
    "    char_arr += seq\n",
    "char_arr += ['<S>', '</S>', '<P>']\n",
    "char2num = {c:i for i, c in enumerate(set(char_arr))}\n",
    "num2char = {i:c for i, c in enumerate(char2num.keys())}\n",
    "dic_len = len(char2num)"
   ]
  },
  {
   "cell_type": "code",
   "execution_count": 4,
   "metadata": {},
   "outputs": [],
   "source": [
    "def make_batch(seq_data):\n",
    "    input_batch = []\n",
    "    output_batch = []\n",
    "    target_batch = []\n",
    "    for i in range(len(seq_data)):\n",
    "        input = []\n",
    "        output = []\n",
    "        target = []\n",
    "        if i%2==0:\n",
    "            for seq in seq_data[i]:\n",
    "                input.append(char2num[seq])\n",
    "            input_batch.append(np.eye(dic_len)[input])\n",
    "        else:\n",
    "            output.append(char2num['<S>'])\n",
    "            for seq in seq_data[i]:\n",
    "                output.append(char2num[seq])\n",
    "                target.append(char2num[seq])\n",
    "            target.append(char2num['</S>'])\n",
    "            output_batch.append(np.eye(dic_len)[output])\n",
    "            target_batch.append(target)\n",
    "\n",
    "    return input_batch, output_batch, target_batch       "
   ]
  },
  {
   "cell_type": "code",
   "execution_count": 5,
   "metadata": {},
   "outputs": [],
   "source": [
    "learning_rate = 0.01\n",
    "n_hidden = 128\n",
    "total_epoch = 500\n",
    "n_class = n_input = dic_len"
   ]
  },
  {
   "cell_type": "code",
   "execution_count": 6,
   "metadata": {},
   "outputs": [],
   "source": [
    "tf.reset_default_graph()\n",
    "enc_input = tf.placeholder(tf.float32, [None, None, n_input])\n",
    "dec_input = tf.placeholder(tf.float32, [None, None, n_input])\n",
    "targets = tf.placeholder(tf.int64, [None, None])"
   ]
  },
  {
   "cell_type": "code",
   "execution_count": 7,
   "metadata": {},
   "outputs": [],
   "source": [
    "with tf.variable_scope('encode'):\n",
    "    enc_cell = tf.nn.rnn_cell.BasicLSTMCell(n_hidden)\n",
    "    enc_cell = tf.nn.rnn_cell.DropoutWrapper(enc_cell, output_keep_prob=0.5)\n",
    "    outputs, enc_states = tf.nn.dynamic_rnn(enc_cell, enc_input, dtype=tf.float32)"
   ]
  },
  {
   "cell_type": "code",
   "execution_count": 9,
   "metadata": {},
   "outputs": [],
   "source": [
    "with tf.variable_scope('decode'):\n",
    "    dec_cell = tf.nn.rnn_cell.BasicLSTMCell(n_hidden)\n",
    "    dec_cell = tf.nn.rnn_cell.DropoutWrapper(dec_cell, output_keep_prob=0.5)\n",
    "    outputs, dec_states = tf.nn.dynamic_rnn(dec_cell, dec_input, initial_state = enc_states, dtype=tf.float32)"
   ]
  },
  {
   "cell_type": "code",
   "execution_count": 10,
   "metadata": {},
   "outputs": [],
   "source": [
    "logits = tf.layers.dense(outputs, n_class, activation=None)"
   ]
  },
  {
   "cell_type": "code",
   "execution_count": 12,
   "metadata": {},
   "outputs": [],
   "source": [
    "cost = tf.reduce_mean(tf.nn.sparse_softmax_cross_entropy_with_logits(logits=logits, labels=targets))"
   ]
  },
  {
   "cell_type": "code",
   "execution_count": 13,
   "metadata": {},
   "outputs": [],
   "source": [
    "optimizer = tf.train.AdamOptimizer(learning_rate).minimize(cost)"
   ]
  },
  {
   "cell_type": "code",
   "execution_count": 14,
   "metadata": {},
   "outputs": [
    {
     "name": "stdout",
     "output_type": "stream",
     "text": [
      "Epoch: 050 cost = 0.149077\n",
      "Epoch: 100 cost = 0.003479\n",
      "Epoch: 150 cost = 0.002200\n",
      "Epoch: 200 cost = 0.000995\n",
      "Epoch: 250 cost = 0.001657\n",
      "Epoch: 300 cost = 0.001592\n",
      "Epoch: 350 cost = 0.001294\n",
      "Epoch: 400 cost = 0.001153\n",
      "Epoch: 450 cost = 0.000623\n",
      "Epoch: 500 cost = 0.000150\n",
      "optimization finished!\n"
     ]
    }
   ],
   "source": [
    "sess = tf.Session()\n",
    "sess.run(tf.global_variables_initializer())\n",
    "\n",
    "input_batch, output_batch, target_batch = make_batch(seq_data)\n",
    "\n",
    "for epoch in range(total_epoch):\n",
    "    _, loss = sess.run([optimizer, cost], feed_dict={enc_input: input_batch, dec_input: output_batch, targets: target_batch})\n",
    "    if epoch % 50 == 49:\n",
    "        print('Epoch:', '%03d' % (epoch+1), 'cost =', '{:.6f}'.format(loss))\n",
    "    \n",
    "print('optimization finished!')"
   ]
  },
  {
   "cell_type": "code",
   "execution_count": 15,
   "metadata": {},
   "outputs": [],
   "source": [
    "def translate(sentence):\n",
    "    seq_data = [sentence.split(' '), len(sentence.split(' '))*['<P>']]\n",
    "    input_batch, output_batch, target_batch = make_batch(seq_data)\n",
    "    prediction = tf.argmax(logits, 2)\n",
    "    result = sess.run(prediction, feed_dict={enc_input: input_batch, dec_input: output_batch, targets: target_batch})\n",
    "    decoded = [num2char[i] for i in result[0]]\n",
    "    \n",
    "    end = decoded.index('</S>')\n",
    "    translated = ' '.join(decoded[:end])\n",
    "    \n",
    "    return translated"
   ]
  },
  {
   "cell_type": "code",
   "execution_count": 16,
   "metadata": {},
   "outputs": [
    {
     "name": "stdout",
     "output_type": "stream",
     "text": [
      "===translation test===\n",
      "I am a boy -> 나 는 소년 이다\n",
      "I am a girl -> 나 는 소녀 다\n",
      "You are so beautiful -> 당신 은 너무 아름답다\n",
      "I am so beautiful -> 나 는 소년 이다\n"
     ]
    }
   ],
   "source": [
    "print('===translation test===')\n",
    "print('I am a boy ->', translate('I am a boy'))\n",
    "print('I am a girl ->', translate('I am a girl'))\n",
    "print('You are so beautiful ->', translate('You are so beautiful'))\n",
    "print('I am so beautiful ->', translate('I am so beautiful'))"
   ]
  }
 ],
 "metadata": {
  "kernelspec": {
   "display_name": "Python tensor",
   "language": "python",
   "name": "myenv"
  },
  "language_info": {
   "codemirror_mode": {
    "name": "ipython",
    "version": 3
   },
   "file_extension": ".py",
   "mimetype": "text/x-python",
   "name": "python",
   "nbconvert_exporter": "python",
   "pygments_lexer": "ipython3",
   "version": "3.5.5"
  }
 },
 "nbformat": 4,
 "nbformat_minor": 2
}

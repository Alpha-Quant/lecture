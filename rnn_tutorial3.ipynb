{
 "cells": [
  {
   "cell_type": "code",
   "execution_count": 205,
   "metadata": {},
   "outputs": [],
   "source": [
    "import tensorflow as tf\n",
    "import numpy as np"
   ]
  },
  {
   "cell_type": "code",
   "execution_count": 232,
   "metadata": {},
   "outputs": [],
   "source": [
    "char_arr = ['a', 'b', 'c', 'd', 'e', 'f', 'g', 'h', 'i', 'j', 'k', 'l', 'm', 'n', 'o', 'p', 'q', 'r', 's', 't', 'u', 'v', 'w', 'x', 'y', 'z', '0', ' ']"
   ]
  },
  {
   "cell_type": "code",
   "execution_count": 233,
   "metadata": {},
   "outputs": [],
   "source": [
    "num_dic = {n: i for i, n in enumerate(char_arr)}\n",
    "dic_len = len(num_dic)"
   ]
  },
  {
   "cell_type": "code",
   "execution_count": 234,
   "metadata": {},
   "outputs": [],
   "source": [
    "seq_data = ['word', 'world', 'treatment', 'powerful', 'potential', 'google', 'south korea', 'the united states', 'natural language processing']"
   ]
  },
  {
   "cell_type": "code",
   "execution_count": 235,
   "metadata": {},
   "outputs": [],
   "source": [
    "def get_max_length(seq_data):\n",
    "    max_length = 0\n",
    "    for seq in seq_data:\n",
    "        if max_length < len(seq) - 1:\n",
    "            max_length = len(seq) - 1\n",
    "    return max_length"
   ]
  },
  {
   "cell_type": "code",
   "execution_count": 236,
   "metadata": {},
   "outputs": [],
   "source": [
    "def get_seq_length(seq_data):\n",
    "    seq_len = []\n",
    "    for seq in seq_data:\n",
    "        seq_len.append(len(seq)-1)\n",
    "    return seq_len"
   ]
  },
  {
   "cell_type": "code",
   "execution_count": 237,
   "metadata": {},
   "outputs": [],
   "source": [
    "seq_length_data = get_seq_length(seq_data)"
   ]
  },
  {
   "cell_type": "code",
   "execution_count": 238,
   "metadata": {},
   "outputs": [
    {
     "data": {
      "text/plain": [
       "[3, 4, 8, 7, 8, 5, 10, 16, 26]"
      ]
     },
     "execution_count": 238,
     "metadata": {},
     "output_type": "execute_result"
    }
   ],
   "source": [
    "seq_length_data"
   ]
  },
  {
   "cell_type": "code",
   "execution_count": 239,
   "metadata": {},
   "outputs": [],
   "source": [
    "max_len = get_max_length(seq_data)"
   ]
  },
  {
   "cell_type": "code",
   "execution_count": 240,
   "metadata": {},
   "outputs": [
    {
     "data": {
      "text/plain": [
       "26"
      ]
     },
     "execution_count": 240,
     "metadata": {},
     "output_type": "execute_result"
    }
   ],
   "source": [
    "max_len"
   ]
  },
  {
   "cell_type": "code",
   "execution_count": 241,
   "metadata": {},
   "outputs": [],
   "source": [
    "def give_zero_padding(seq_data, max_len):\n",
    "    padded_data = []\n",
    "    for seq in seq_data:\n",
    "        temp = seq[:-1]\n",
    "        for _ in range(len(seq), max_len+1):\n",
    "            temp += '0'\n",
    "        temp += seq[-1]\n",
    "        padded_data.append(temp)\n",
    "    return padded_data"
   ]
  },
  {
   "cell_type": "code",
   "execution_count": 242,
   "metadata": {},
   "outputs": [],
   "source": [
    "seq_data = give_zero_padding(seq_data, max_len)"
   ]
  },
  {
   "cell_type": "code",
   "execution_count": 243,
   "metadata": {},
   "outputs": [],
   "source": [
    "def make_batch(seq_data):\n",
    "    input_batch = []\n",
    "    target_batch = []\n",
    "    \n",
    "    for seq in seq_data:\n",
    "        input = [num_dic[n] for n in seq[:-1]]\n",
    "        target = num_dic[seq[-1]]\n",
    "        \n",
    "        input_batch.append(np.eye(dic_len)[input])\n",
    "        target_batch.append(target)\n",
    "        \n",
    "    return input_batch, target_batch"
   ]
  },
  {
   "cell_type": "code",
   "execution_count": 244,
   "metadata": {},
   "outputs": [],
   "source": [
    "input_batch, target_batch = make_batch(seq_data)"
   ]
  },
  {
   "cell_type": "code",
   "execution_count": 245,
   "metadata": {},
   "outputs": [
    {
     "data": {
      "text/plain": [
       "[3, 3, 19, 11, 11, 4, 0, 18, 6]"
      ]
     },
     "execution_count": 245,
     "metadata": {},
     "output_type": "execute_result"
    }
   ],
   "source": [
    "target_batch"
   ]
  },
  {
   "cell_type": "code",
   "execution_count": 246,
   "metadata": {},
   "outputs": [],
   "source": [
    "learning_rate = 0.001\n",
    "n_hidden = 128\n",
    "total_epoch = 200\n",
    "n_step = max_len\n",
    "n_input = n_class = dic_len\n",
    "batch_size = len(seq_data)"
   ]
  },
  {
   "cell_type": "code",
   "execution_count": 247,
   "metadata": {},
   "outputs": [],
   "source": [
    "tf.reset_default_graph()\n",
    "X = tf.placeholder(dtype=tf.float32, shape=[None, n_step, n_input])\n",
    "Y = tf.placeholder(dtype=tf.int32, shape=[None])\n",
    "seq_len = tf.placeholder(dtype=tf.int32, shape=[None])"
   ]
  },
  {
   "cell_type": "code",
   "execution_count": 248,
   "metadata": {},
   "outputs": [],
   "source": [
    "W = tf.Variable(tf.random_normal([n_hidden, n_class]))\n",
    "b = tf.Variable(tf.random_normal([n_class]))"
   ]
  },
  {
   "cell_type": "code",
   "execution_count": 249,
   "metadata": {},
   "outputs": [],
   "source": [
    "cell = tf.nn.rnn_cell.GRUCell(n_hidden)\n",
    "cell = tf.nn.rnn_cell.DropoutWrapper(cell, output_keep_prob=0.5)"
   ]
  },
  {
   "cell_type": "code",
   "execution_count": 250,
   "metadata": {},
   "outputs": [],
   "source": [
    "outputs, states = tf.nn.dynamic_rnn(cell, X, sequence_length=seq_len, dtype=tf.float32)\n",
    "#outputs: TensorShape([batch_size, time_steps, hidden_size])"
   ]
  },
  {
   "cell_type": "code",
   "execution_count": 251,
   "metadata": {},
   "outputs": [],
   "source": [
    "idx = tf.range(tf.shape(outputs)[0])*tf.shape(outputs)[1] + (seq_len - 1)"
   ]
  },
  {
   "cell_type": "code",
   "execution_count": 252,
   "metadata": {},
   "outputs": [],
   "source": [
    "last_outputs = tf.gather(tf.reshape(outputs, [-1, n_hidden]), idx)\n",
    "#tf.reshape(outputs, [-1, n_hidden]): TensorShape([batch_size*time_steps, hidden_size])"
   ]
  },
  {
   "cell_type": "code",
   "execution_count": 253,
   "metadata": {},
   "outputs": [],
   "source": [
    "logits = tf.matmul(last_outputs, W) + b\n",
    "preds = tf.cast(tf.argmax(logits, 1), tf.int32)\n",
    "correct = tf.equal(preds, Y)\n",
    "accuracy = tf.reduce_mean(tf.cast(correct, tf.float32))"
   ]
  },
  {
   "cell_type": "code",
   "execution_count": 254,
   "metadata": {},
   "outputs": [],
   "source": [
    "cost = tf.reduce_mean(tf.nn.sparse_softmax_cross_entropy_with_logits(logits=logits, labels=Y))"
   ]
  },
  {
   "cell_type": "code",
   "execution_count": 255,
   "metadata": {},
   "outputs": [
    {
     "name": "stderr",
     "output_type": "stream",
     "text": [
      "C:\\Users\\RYU\\Anaconda3\\envs\\tensor\\lib\\site-packages\\tensorflow\\python\\ops\\gradients_impl.py:93: UserWarning: Converting sparse IndexedSlices to a dense Tensor of unknown shape. This may consume a large amount of memory.\n",
      "  \"Converting sparse IndexedSlices to a dense Tensor of unknown shape. \"\n"
     ]
    }
   ],
   "source": [
    "optimizer = tf.train.AdamOptimizer(learning_rate).minimize(cost)"
   ]
  },
  {
   "cell_type": "code",
   "execution_count": 256,
   "metadata": {},
   "outputs": [
    {
     "name": "stdout",
     "output_type": "stream",
     "text": [
      "Epoch: 0020 cost = 1.856622\n",
      "Epoch: 0040 cost = 0.382763\n",
      "Epoch: 0060 cost = 0.097220\n",
      "Epoch: 0080 cost = 0.021560\n",
      "Epoch: 0100 cost = 0.011558\n",
      "Epoch: 0120 cost = 0.030519\n",
      "Epoch: 0140 cost = 0.014260\n",
      "Epoch: 0160 cost = 0.005036\n",
      "Epoch: 0180 cost = 0.012159\n",
      "Epoch: 0200 cost = 0.009908\n",
      "optimization finished!\n"
     ]
    }
   ],
   "source": [
    "sess = tf.Session()\n",
    "sess.run(tf.global_variables_initializer())\n",
    "input_batch, target_batch = make_batch(seq_data)\n",
    "for epoch in range(total_epoch):\n",
    "    _, loss = sess.run([optimizer, cost], feed_dict={X: input_batch, Y: target_batch, seq_len: seq_length_data})\n",
    "    if epoch % 20 == 19:\n",
    "        print('Epoch:', '%04d' % (epoch+1), 'cost =', '{:.6f}'.format(loss))\n",
    "    \n",
    "print('optimization finished!')"
   ]
  },
  {
   "cell_type": "code",
   "execution_count": 257,
   "metadata": {},
   "outputs": [
    {
     "name": "stdout",
     "output_type": "stream",
     "text": [
      "Input:  wor\n",
      "Prediction:  word \n",
      "\n",
      "Input:  worl\n",
      "Prediction:  world \n",
      "\n",
      "Input:  treatmen\n",
      "Prediction:  treatment \n",
      "\n",
      "Input:  powerfu\n",
      "Prediction:  powerful \n",
      "\n",
      "Input:  potentia\n",
      "Prediction:  potential \n",
      "\n",
      "Input:  googl\n",
      "Prediction:  google \n",
      "\n",
      "Input:  south kore\n",
      "Prediction:  south korea \n",
      "\n",
      "Input:  the united state\n",
      "Prediction:  the united states \n",
      "\n",
      "Input:  natural language processin\n",
      "Prediction:  natural language processing \n",
      "\n"
     ]
    }
   ],
   "source": [
    "input_batch, target_batch = make_batch(seq_data)\n",
    "predict, accuracy_val = sess.run([preds, accuracy], feed_dict={X: input_batch, Y: target_batch, seq_len: seq_length_data})\n",
    "for i, val in enumerate(seq_data):\n",
    "    predict_words = seq_data[i][:seq_length_data[i]] + char_arr[predict[i]]\n",
    "    print('Input: ', seq_data[i][:seq_length_data[i]])\n",
    "    print('Prediction: ', predict_words, '\\n')"
   ]
  }
 ],
 "metadata": {
  "kernelspec": {
   "display_name": "Python tensor",
   "language": "python",
   "name": "myenv"
  },
  "language_info": {
   "codemirror_mode": {
    "name": "ipython",
    "version": 3
   },
   "file_extension": ".py",
   "mimetype": "text/x-python",
   "name": "python",
   "nbconvert_exporter": "python",
   "pygments_lexer": "ipython3",
   "version": "3.5.5"
  }
 },
 "nbformat": 4,
 "nbformat_minor": 2
}

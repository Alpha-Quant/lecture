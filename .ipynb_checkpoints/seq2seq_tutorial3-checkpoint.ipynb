{
 "cells": [
  {
   "cell_type": "code",
   "execution_count": 1,
   "metadata": {},
   "outputs": [],
   "source": [
    "import tensorflow as tf\n",
    "import numpy as np"
   ]
  },
  {
   "cell_type": "code",
   "execution_count": 2,
   "metadata": {},
   "outputs": [],
   "source": [
    "seq_data = [['I',' ','am',' ','a',' ','boy'], ['나','는', ' ', '소년','이다'], ['I',' ','am',' ','a',' ','girl'], ['나','는', ' ', '소녀','다'], ['How',' ','often',' ','do',' ','you',' ','eat',' ','per',' ','day','?'], ['하루에', ' ', '얼마나', ' ', '자주', ' ', '드십니까','?'],['You',' ','are',' ','so',' ','beautiful'], ['당신','은', ' ', '너무', ' ', '아름답다'], ['Would', ' ', 'you', ' ', 'mind', ' ', 'helping', ' ', 'me', ' ', 'out', '?'], ['혹시', ' ', '도와', ' ', '주실', ' ', '수', ' ', '있나요', '?']]"
   ]
  },
  {
   "cell_type": "code",
   "execution_count": 3,
   "metadata": {},
   "outputs": [],
   "source": [
    "char_arr = []\n",
    "for seq in seq_data:\n",
    "    char_arr += seq\n",
    "char_arr += ['<S>', '</S>', '<P>']\n",
    "char2num = {c:i for i, c in enumerate(set(char_arr))}\n",
    "num2char = {i:c for i, c in enumerate(char2num.keys())}\n",
    "dic_len = len(char2num)"
   ]
  },
  {
   "cell_type": "code",
   "execution_count": 4,
   "metadata": {},
   "outputs": [],
   "source": [
    "def get_enc_max_length(seq_data):\n",
    "    enc_max_len = 0\n",
    "    for i, seq in enumerate(seq_data):\n",
    "        if i%2==0:\n",
    "            if enc_max_len < len(seq):\n",
    "                enc_max_len = len(seq)\n",
    "    return enc_max_len"
   ]
  },
  {
   "cell_type": "code",
   "execution_count": 5,
   "metadata": {},
   "outputs": [],
   "source": [
    "def get_dec_max_length(seq_data):\n",
    "    dec_max_len = 0\n",
    "    for i, seq in enumerate(seq_data):\n",
    "        if i%2==1:\n",
    "            if dec_max_len < len(seq):\n",
    "                dec_max_len = len(seq)\n",
    "    return dec_max_len"
   ]
  },
  {
   "cell_type": "code",
   "execution_count": 6,
   "metadata": {},
   "outputs": [],
   "source": [
    "def make_batch(seq_data):\n",
    "    enc_max_len = get_enc_max_length(seq_data)\n",
    "    dec_max_len = get_dec_max_length(seq_data)\n",
    "    input_batch = []\n",
    "    output_batch = []\n",
    "    target_batch = []\n",
    "    for i in range(len(seq_data)):\n",
    "        input = []\n",
    "        output = []\n",
    "        target = []\n",
    "        if i%2==0:\n",
    "            for seq in seq_data[i]:\n",
    "                input.append(char2num[seq])\n",
    "            for i in range(len(seq_data[i]), enc_max_len):\n",
    "                input.append(char2num['<P>'])\n",
    "            input_batch.append(np.eye(dic_len)[input])\n",
    "        else:\n",
    "            output.append(char2num['<S>'])\n",
    "            for seq in seq_data[i]:\n",
    "                output.append(char2num[seq])\n",
    "                target.append(char2num[seq])\n",
    "            target.append(char2num['</S>'])\n",
    "            for i in range(len(seq_data[i]), dec_max_len):\n",
    "                output.append(char2num['</S>'])\n",
    "                target.append(char2num['</S>'])\n",
    "            output_batch.append(np.eye(dic_len)[output])\n",
    "            target_batch.append(target)\n",
    "\n",
    "    return input_batch, output_batch, target_batch"
   ]
  },
  {
   "cell_type": "code",
   "execution_count": 7,
   "metadata": {},
   "outputs": [],
   "source": [
    "def get_enc_seq_length(seq_data):\n",
    "    enc_seq_len = []\n",
    "    for i, seq in enumerate(seq_data):\n",
    "        if i%2==0:\n",
    "            enc_seq_len.append(len(seq))\n",
    "    return enc_seq_len"
   ]
  },
  {
   "cell_type": "code",
   "execution_count": 8,
   "metadata": {},
   "outputs": [],
   "source": [
    "def get_dec_seq_length(seq_data):\n",
    "    dec_seq_len = []\n",
    "    for i, seq in enumerate(seq_data):\n",
    "        if i%2==1:\n",
    "            dec_seq_len.append(len(seq))\n",
    "    return dec_seq_len"
   ]
  },
  {
   "cell_type": "code",
   "execution_count": 9,
   "metadata": {},
   "outputs": [],
   "source": [
    "enc_seq_data = get_enc_seq_length(seq_data)\n",
    "dec_seq_data = get_dec_seq_length(seq_data)"
   ]
  },
  {
   "cell_type": "code",
   "execution_count": 10,
   "metadata": {},
   "outputs": [],
   "source": [
    "learning_rate = 1e-3\n",
    "n_hidden = 256\n",
    "n_enc_step = get_enc_max_length(seq_data)\n",
    "n_dec_step = get_dec_max_length(seq_data)\n",
    "total_epoch = 100\n",
    "n_class = n_input = dic_len\n",
    "batch_size = int(len(seq_data)/2)"
   ]
  },
  {
   "cell_type": "code",
   "execution_count": 42,
   "metadata": {},
   "outputs": [],
   "source": [
    "tf.reset_default_graph()\n",
    "enc_input = tf.placeholder(tf.float32, [None, None, n_input])\n",
    "dec_input = tf.placeholder(tf.float32, [None, None, n_input])\n",
    "targets = tf.placeholder(tf.int64, [None, None])\n",
    "enc_seq_len = tf.placeholder(dtype=tf.int32, shape=[None])\n",
    "dec_seq_len = tf.placeholder(dtype=tf.int32, shape=[None])"
   ]
  },
  {
   "cell_type": "code",
   "execution_count": 43,
   "metadata": {},
   "outputs": [],
   "source": [
    "with tf.variable_scope('encode'):\n",
    "    enc_cell = tf.nn.rnn_cell.GRUCell(n_hidden)\n",
    "    #enc_cell = tf.nn.rnn_cell.DropoutWrapper(enc_cell, output_keep_prob=0.5)\n",
    "    outputs, enc_states = tf.nn.dynamic_rnn(enc_cell, enc_input, sequence_length=enc_seq_len, dtype=tf.float32)"
   ]
  },
  {
   "cell_type": "code",
   "execution_count": 44,
   "metadata": {},
   "outputs": [],
   "source": [
    "idx = tf.range(batch_size)*tf.shape(outputs)[1] + (enc_seq_len - 1)"
   ]
  },
  {
   "cell_type": "code",
   "execution_count": 45,
   "metadata": {},
   "outputs": [],
   "source": [
    "last_enc_states = tf.gather(tf.reshape(outputs, [-1, n_hidden]), idx)"
   ]
  },
  {
   "cell_type": "code",
   "execution_count": 46,
   "metadata": {},
   "outputs": [],
   "source": [
    "with tf.variable_scope('decode'):\n",
    "    dec_cell = tf.nn.rnn_cell.BasicRNNCell(n_hidden)\n",
    "    #dec_cell = tf.nn.rnn_cell.DropoutWrapper(dec_cell, output_keep_prob=0.5)\n",
    "    outputs, dec_states = tf.nn.dynamic_rnn(dec_cell, dec_input, initial_state = last_enc_states, sequence_length=dec_seq_len, dtype=tf.float32)"
   ]
  },
  {
   "cell_type": "code",
   "execution_count": 47,
   "metadata": {},
   "outputs": [],
   "source": [
    "logits = tf.layers.dense(outputs, n_class, activation=None)"
   ]
  },
  {
   "cell_type": "code",
   "execution_count": 48,
   "metadata": {},
   "outputs": [],
   "source": [
    "cost = tf.reduce_mean(tf.nn.sparse_softmax_cross_entropy_with_logits(logits=logits, labels=targets))\n",
    "predict = tf.argmax(logits, 2)"
   ]
  },
  {
   "cell_type": "code",
   "execution_count": 49,
   "metadata": {},
   "outputs": [
    {
     "name": "stderr",
     "output_type": "stream",
     "text": [
      "C:\\Users\\RYU\\Anaconda3\\envs\\tensor\\lib\\site-packages\\tensorflow\\python\\ops\\gradients_impl.py:93: UserWarning: Converting sparse IndexedSlices to a dense Tensor of unknown shape. This may consume a large amount of memory.\n",
      "  \"Converting sparse IndexedSlices to a dense Tensor of unknown shape. \"\n"
     ]
    }
   ],
   "source": [
    "optimizer = tf.train.AdamOptimizer(learning_rate).minimize(cost)"
   ]
  },
  {
   "cell_type": "code",
   "execution_count": 50,
   "metadata": {},
   "outputs": [
    {
     "name": "stdout",
     "output_type": "stream",
     "text": [
      "Epoch: 010 cost = 2.526134\n",
      "['나   다는는는는는', '나   다는는는는는', '나   있나요 수?는는', '나     는는는는', '나   주실 수?있나요?']\n",
      "Epoch: 020 cost = 1.804328\n",
      "['나는 소녀이다', '나는 소녀다', '하루에 얼마나 자주 드십니까?', '나는 너무 아름답다', '하루에 얼마나 자주 수 있나요?']\n",
      "Epoch: 030 cost = 1.613161\n",
      "['나는 소년이다', '나는 소년다', '하루에 얼마나 자주 드십니까?', '나은 너무 아름답다', '혹시 도와 주실 수 있나요?']\n",
      "Epoch: 040 cost = 1.502281\n",
      "['나는 소년이다', '나는 소년다', '하루에 얼마나 자주 드십니까?', '당신은 너무 아름답다', '혹시 도와 주실 수 있나요?']\n",
      "Epoch: 050 cost = 1.467961\n",
      "['나는 소년이다', '나는 소년다', '하루에 얼마나 자주 드십니까?', '당신은 너무 아름답다', '혹시 도와 주실 수 있나요?']\n",
      "Epoch: 060 cost = 1.452948\n",
      "['나는 소년이다', '나는 소녀다', '하루에 얼마나 자주 드십니까?', '당신은 너무 아름답다', '혹시 도와 주실 수 있나요?']\n",
      "Epoch: 070 cost = 1.441691\n",
      "['나는 소년이다', '나는 소녀다', '하루에 얼마나 자주 드십니까?', '당신은 너무 아름답다', '혹시 도와 주실 수 있나요?']\n",
      "Epoch: 080 cost = 1.431067\n",
      "['나는 소년이다', '나는 소녀다', '하루에 얼마나 자주 드십니까?', '당신은 너무 아름답다', '혹시 도와 주실 수 있나요?']\n",
      "Epoch: 090 cost = 1.419355\n",
      "['나는 소년이다', '나는 소녀다', '하루에 얼마나 자주 드십니까?', '당신은 너무 아름답다', '혹시 도와 주실 수 있나요?']\n",
      "Epoch: 100 cost = 1.403966\n",
      "['나는 소년이다', '나는 소녀다', '하루에 얼마나 자주 드십니까?', '당신은 너무 아름답다', '혹시 도와 주실 수 있나요?']\n",
      "optimization finished!\n"
     ]
    }
   ],
   "source": [
    "sess = tf.Session()\n",
    "sess.run(tf.global_variables_initializer())\n",
    "\n",
    "input_batch, output_batch, target_batch = make_batch(seq_data)\n",
    "\n",
    "for epoch in range(total_epoch):\n",
    "    _, loss = sess.run([optimizer, cost], feed_dict={enc_input: input_batch, dec_input: output_batch, targets: target_batch, enc_seq_len: enc_seq_data, dec_seq_len: dec_seq_data})\n",
    "    if epoch % 10 == 9:\n",
    "        result = sess.run(predict, feed_dict={enc_input: input_batch, dec_input: output_batch, targets: target_batch, enc_seq_len: enc_seq_data, dec_seq_len: dec_seq_data})\n",
    "        translation = []\n",
    "        for i in range(len(result)):\n",
    "            decoded = [num2char[j] for j in result[i]]\n",
    "            end = len(decoded)-1\n",
    "            if '</S>' in decoded:\n",
    "                end = decoded.index('</S>')\n",
    "            translated = ''.join(decoded[:end])\n",
    "            translation.append(translated)\n",
    "        print('Epoch:', '%03d' % (epoch+1), 'cost =', '{:.6f}'.format(loss))\n",
    "        print(translation)\n",
    "print('optimization finished!')"
   ]
  },
  {
   "cell_type": "code",
   "execution_count": 40,
   "metadata": {},
   "outputs": [],
   "source": [
    "result = sess.run(predict, feed_dict={enc_input: input_batch, dec_input: output_batch, targets: target_batch, enc_seq_len: enc_seq_data, dec_seq_len: dec_seq_data})\n",
    "translation = []\n",
    "for i in range(len(result)):\n",
    "    decoded = [num2char[j] for j in result[i]]\n",
    "    end = len(decoded)-1\n",
    "    if '</S>' in decoded:\n",
    "        end = decoded.index('</S>')\n",
    "    translated = ''.join(decoded[:end])\n",
    "    translation.append(translated)"
   ]
  },
  {
   "cell_type": "code",
   "execution_count": 41,
   "metadata": {},
   "outputs": [
    {
     "name": "stdout",
     "output_type": "stream",
     "text": [
      "I am a boy -> 나는 소년이다\n",
      "I am a girl -> 나는 소녀다\n",
      "How often do you eat per day? -> 하루에 얼마나 자주 드십니까?\n",
      "You are so beautiful -> 당신은 너무 아름답다\n",
      "Would you mind helping me out? -> 혹시 도와 주실 수 있나요?\n"
     ]
    }
   ],
   "source": [
    "for i, seq in enumerate(seq_data):\n",
    "    if i%2==0:\n",
    "        temp = ''\n",
    "        for token in seq:\n",
    "            temp += token\n",
    "        print(temp, '->', translation[int(i/2)])"
   ]
  }
 ],
 "metadata": {
  "kernelspec": {
   "display_name": "Python tensor",
   "language": "python",
   "name": "myenv"
  },
  "language_info": {
   "codemirror_mode": {
    "name": "ipython",
    "version": 3
   },
   "file_extension": ".py",
   "mimetype": "text/x-python",
   "name": "python",
   "nbconvert_exporter": "python",
   "pygments_lexer": "ipython3",
   "version": "3.6.4"
  }
 },
 "nbformat": 4,
 "nbformat_minor": 2
}
